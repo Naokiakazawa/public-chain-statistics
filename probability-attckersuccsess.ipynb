{
 "cells": [
  {
   "cell_type": "code",
   "execution_count": 1,
   "metadata": {},
   "outputs": [],
   "source": [
    "import numpy as np\n",
    "import matplotlib.pyplot as plt"
   ]
  },
  {
   "cell_type": "code",
   "execution_count": 2,
   "metadata": {},
   "outputs": [],
   "source": [
    "#攻撃者が成功する確率\n",
    "def attcker_success(q, z):    \n",
    "    p = 1.0 - q\n",
    "    l = z * (q/p)\n",
    "    sum = 1.0\n",
    "\n",
    "    for k in range(0, z+1):\n",
    "        poisson = np.exp(-l)\n",
    "        for i in range(1, k+1):\n",
    "            poisson *= l / i\n",
    "        sum -= poisson * (1 - np.power(q/p, z-k))\n",
    "    return sum"
   ]
  },
  {
   "cell_type": "code",
   "execution_count": 3,
   "metadata": {},
   "outputs": [
    {
     "name": "stdout",
     "output_type": "stream",
     "text": [
      "0.00000124140217479795642434325410319306826067986549\n"
     ]
    }
   ],
   "source": [
    "print('{:.50f}'.format(attcker_success(0.1, 10)))"
   ]
  },
  {
   "cell_type": "code",
   "execution_count": 4,
   "metadata": {},
   "outputs": [
    {
     "name": "stdout",
     "output_type": "stream",
     "text": [
      "0.00012414021747979563396399593777630343538476154208 %\n"
     ]
    }
   ],
   "source": [
    "print('{:.50f}'.format(attcker_success(0.1, 10)*100), \"%\")"
   ]
  },
  {
   "cell_type": "code",
   "execution_count": 5,
   "metadata": {},
   "outputs": [
    {
     "name": "stdout",
     "output_type": "stream",
     "text": [
      "z=0  1.00000000000000000000000000000000000000000000000000\n",
      "z=1  0.20458727394278242162073411236633546650409698486328\n",
      "z=2  0.05097789283933862325426389361382462084293365478516\n",
      "z=3  0.01317224167889648189788687204782036133110523223877\n",
      "z=4  0.00345524346648517360902630457530904095619916915894\n",
      "z=5  0.00091368218792791224339144839916571072535589337349\n",
      "z=6  0.00024280274536281863662079416599226533435285091400\n",
      "z=7  0.00006473531692709972641154581030065173763432539999\n",
      "z=8  0.00001729980418716505960723822665769944251223932952\n",
      "z=9  0.00000463116397250268184871292015403199116008181591\n",
      "z=10  0.00000124140217479795642434325410319306826067986549\n"
     ]
    }
   ],
   "source": [
    "for z_i in range(0,11):\n",
    "    print(\"z=\",z_i,'  {:.50f}'.format(attcker_success(0.1, z_i)),sep='')"
   ]
  },
  {
   "cell_type": "code",
   "execution_count": null,
   "metadata": {},
   "outputs": [],
   "source": []
  }
 ],
 "metadata": {
  "kernelspec": {
   "display_name": "Python 3",
   "language": "python",
   "name": "python3"
  },
  "language_info": {
   "codemirror_mode": {
    "name": "ipython",
    "version": 3
   },
   "file_extension": ".py",
   "mimetype": "text/x-python",
   "name": "python",
   "nbconvert_exporter": "python",
   "pygments_lexer": "ipython3",
   "version": "3.6.9"
  }
 },
 "nbformat": 4,
 "nbformat_minor": 4
}
