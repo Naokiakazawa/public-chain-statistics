{
 "cells": [
  {
   "cell_type": "code",
   "execution_count": 1,
   "metadata": {},
   "outputs": [],
   "source": [
    "import numpy as np\n",
    "import matplotlib.pyplot as plt\n",
    "\n",
    "def attcker_success(q, z):    \n",
    "    p = 1.0 - q\n",
    "    l = z * (q/p)\n",
    "    sum = 1.0\n",
    "    for k in range(0, z+1):\n",
    "        poisson = np.exp(-l)\n",
    "        for i in range(1, k+1):\n",
    "            poisson *= l / i\n",
    "        sum -= poisson * (1 - np.power(q/p, z-k))\n",
    "    return sum\n",
    "\n",
    "def attcker_plot(q, z):\n",
    "    probability = []\n",
    "    progress = []\n",
    "    for z_prg in range(z+1):\n",
    "        progress.append(z_prg)\n",
    "        probability.append(attcker_success(q, z_prg))\n",
    "    plt.plot(progress, probability)\n",
    "    plt.xlabel('z')\n",
    "    plt.ylabel('probability')\n",
    "    plt.show()"
   ]
  },
  {
   "cell_type": "code",
   "execution_count": 2,
   "metadata": {},
   "outputs": [
    {
     "data": {
      "image/png": "[encoded data removed]",
      "text/plain": [
       "<Figure size 432x288 with 1 Axes>"
      ]
     },
     "metadata": {
      "needs_background": "light"
     },
     "output_type": "display_data"
    }
   ],
   "source": [
    "attcker_plot(0.1, 10)"
   ]
  },
  {
   "cell_type": "code",
   "execution_count": null,
   "metadata": {},
   "outputs": [],
   "source": []
  }
 ],
 "metadata": {
  "kernelspec": {
   "display_name": "Python 3",
   "language": "python",
   "name": "python3"
  },
  "language_info": {
   "codemirror_mode": {
    "name": "ipython",
    "version": 3
   },
   "file_extension": ".py",
   "mimetype": "text/x-python",
   "name": "python",
   "nbconvert_exporter": "python",
   "pygments_lexer": "ipython3",
   "version": "3.6.9"
  }
 },
 "nbformat": 4,
 "nbformat_minor": 4
}
